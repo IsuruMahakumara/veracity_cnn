

!git clone --recursive https://github.com/smallcorgi/Faster-RCNN_TF.git
cd $FRCN_ROOT/lib
make